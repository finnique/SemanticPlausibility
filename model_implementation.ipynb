{
 "cells": [
  {
   "cell_type": "markdown",
   "metadata": {},
   "source": [
    "# Model Implementation\n",
    "\n",
    "We have decided to try out one statistical model and one neural model for plausibility classification. <br>\n",
    "For statistical model, we use a **percepron**. We import the implementation from *scikit-learn* library. <br>\n",
    "For the neural model, we take **RoBERTa**. Here, we use *transformers* library. <br>"
   ]
  },
  {
   "cell_type": "code",
   "execution_count": 33,
   "metadata": {},
   "outputs": [],
   "source": [
    "# set the visible CUDA device, so that Trainer for finetuning only uses one.\n",
    "# Change os.environ[\"CUDA_VISIBLE_DEVICES\"] to number of an available GPU\n",
    "\n",
    "import os\n",
    "os.environ[\"CUDA_DEVICE_ORDER\"]=\"PCI_BUS_ID\"\n",
    "os.environ[\"CUDA_VISIBLE_DEVICES\"]=\"0\""
   ]
  },
  {
   "cell_type": "code",
   "execution_count": 34,
   "metadata": {},
   "outputs": [
    {
     "name": "stderr",
     "output_type": "stream",
     "text": [
      "[nltk_data] Downloading package punkt to /home/martin/nltk_data...\n",
      "[nltk_data]   Package punkt is already up-to-date!\n"
     ]
    }
   ],
   "source": [
    "import json\n",
    "import csv\n",
    "import sklearn\n",
    "from sklearn.linear_model import Perceptron\n",
    "from sklearn.metrics import ConfusionMatrixDisplay, accuracy_score, roc_auc_score\n",
    "from sklearn.preprocessing import label_binarize\n",
    "import nltk\n",
    "from nltk.tokenize import word_tokenize\n",
    "nltk.download('punkt')\n",
    "from gensim.models.doc2vec import Doc2Vec, TaggedDocument\n",
    "import evaluate\n",
    "import numpy as np\n",
    "from transformers import AutoTokenizer, Trainer, TrainingArguments, DefaultDataCollator, AutoModelForSequenceClassification, pipeline\n",
    "from datasets import Dataset, Value, ClassLabel, Features\n",
    "import pandas as pd\n",
    "import matplotlib.pyplot as plt"
   ]
  },
  {
   "cell_type": "markdown",
   "metadata": {},
   "source": [
    "## General data loading"
   ]
  },
  {
   "cell_type": "code",
   "execution_count": 35,
   "metadata": {},
   "outputs": [],
   "source": [
    "path_adept = \"datasets/adept/train-dev-test-split\"\n",
    "path_pap = \"datasets/pap/train-dev-test-split\"\n",
    "\n",
    "# adept\n",
    "def no_label(dictionary):\n",
    "    return {key: value for key, value in dictionary.items() if key!=\"label\"}\n",
    "with open(path_adept+\"/train.json\", \"r\", encoding=\"utf-8\") as file:\n",
    "    adept_train = json.load(file)    \n",
    "with open(path_adept+\"/val.json\", \"r\", encoding=\"utf-8\") as file:\n",
    "    adept_val = json.load(file)   \n",
    "with open(path_adept+\"/test.json\", \"r\", encoding=\"utf-8\") as file:\n",
    "    adept_test = json.load(file)\n",
    "\n",
    "# pap with multiclasses\n",
    "with open(path_pap + \"/multiclass/train.csv\") as file:\n",
    "    pap_multi_train = list(csv.DictReader(file))\n",
    "with open(path_pap + \"/multiclass/dev.csv\") as file:\n",
    "    pap_multi_dev = list(csv.DictReader(file))\n",
    "with open(path_pap + \"/multiclass/test.csv\") as file:\n",
    "    pap_multi_test = list(csv.DictReader(file))\n",
    "\n",
    "# pap with binary labels\n",
    "with open(path_pap + \"/binary/train.csv\") as file:\n",
    "    pap_bin_train = list(csv.DictReader(file))\n",
    "with open(path_pap + \"/binary/dev.csv\") as file:\n",
    "    pap_bin_dev = list(csv.DictReader(file))\n",
    "with open(path_pap + \"/binary/test.csv\") as file:\n",
    "    pap_bin_test = list(csv.DictReader(file))"
   ]
  },
  {
   "cell_type": "markdown",
   "metadata": {},
   "source": [
    "## Perceptron"
   ]
  },
  {
   "cell_type": "code",
   "execution_count": 36,
   "metadata": {},
   "outputs": [],
   "source": [
    "# data-label splits \n",
    "# adept\n",
    "adept_train_data = [no_label(instance) for instance in adept_train]\n",
    "adept_train_labels = [instance['label'] for instance in adept_train]\n",
    "adept_val_data = [no_label(instance) for instance in adept_val]\n",
    "adept_val_labels = [instance['label'] for instance in adept_val]\n",
    "adept_test_data = [no_label(instance) for instance in adept_test]\n",
    "adept_test_labels = [instance['label'] for instance in adept_test]\n",
    "\n",
    "# pap with multiclasses\n",
    "pap_multi_train_data = [instance['text'] for instance in pap_multi_train]\n",
    "pap_multi_train_labels = [instance['label'] for instance in pap_multi_train]\n",
    "pap_multi_dev_data = [instance['text'] for instance in pap_multi_dev]\n",
    "pap_multi_dev_labels = [instance['label'] for instance in pap_multi_dev]\n",
    "pap_multi_test_data = [instance['text'] for instance in pap_multi_test]\n",
    "pap_multi_test_labels = [instance['label'] for instance in pap_multi_test]\n",
    "\n",
    "# pap with binary labels\n",
    "pap_bin_train_data = [instance['text'] for instance in pap_bin_train]\n",
    "pap_bin_train_labels = [instance['label'] for instance in pap_bin_train]\n",
    "pap_bin_dev_data = [instance['text'] for instance in pap_bin_dev]\n",
    "pap_bin_dev_labels = [instance['label'] for instance in pap_bin_dev]\n",
    "pap_bin_test_data = [instance['text'] for instance in pap_bin_test]\n",
    "pap_bin_test_labels = [instance['label'] for instance in pap_bin_test]"
   ]
  },
  {
   "cell_type": "markdown",
   "metadata": {},
   "source": [
    "#### Get sentence vectors from Doc2Vec"
   ]
  },
  {
   "cell_type": "code",
   "execution_count": 37,
   "metadata": {},
   "outputs": [],
   "source": [
    "# tokenize\n",
    "def tokenize(sentences):\n",
    "    tokenized = []\n",
    "\n",
    "    for sentence in sentences:\n",
    "        tokenize = word_tokenize(sentence.lower())\n",
    "        tokenized.append(tokenize)\n",
    "    \n",
    "    return tokenized\n",
    "\n",
    "# create a function to get sentence vector\n",
    "def get_vector(tokenized_sentences):\n",
    "\n",
    "    # train the Doc2vec model\n",
    "    tagged_data = [TaggedDocument(d, [i]) for i, d in enumerate(tokenized_sentences)]\n",
    "    model = Doc2Vec(vector_size=25,min_count=2, epochs=70) # words have to appear at least 2 time to be created in a vocab list\n",
    "    model.build_vocab(tagged_data)\n",
    "    model.train(tagged_data,\n",
    "                total_examples=model.corpus_count,\n",
    "                epochs=model.epochs)\n",
    "    \n",
    "    # get the document vectors\n",
    "    document_vectors = [model.infer_vector(sentence) for sentence in tokenized_sentences]\n",
    "\n",
    "    return document_vectors"
   ]
  },
  {
   "cell_type": "markdown",
   "metadata": {},
   "source": [
    "### adept"
   ]
  },
  {
   "cell_type": "code",
   "execution_count": 38,
   "metadata": {},
   "outputs": [
    {
     "name": "stdout",
     "output_type": "stream",
     "text": [
      "Document 1 : The effect of additional sleeping is rejuvenation.\n",
      "Vector: [-0.6961173  -0.07669522  0.06725418 -0.5844058  -0.37391746 -0.10531234\n",
      "  0.2351421   0.47105277 -0.8755587  -0.42271227  0.21654005 -0.12989043\n",
      "  0.01966191  0.25882545  0.07930464  0.29986334 -0.02194019  0.37123767\n",
      " -0.19798402  0.00586631  0.43431377  0.45250988  0.1708536  -0.08991288\n",
      " -0.08982003]\n",
      "\n",
      "Document 2 : A regular toothbrush is for fresh breath.\n",
      "Vector: [-0.43144014  0.9223216  -0.6636249  -0.09425359 -0.10583428 -0.81819904\n",
      "  0.80760527  0.43811214 -0.22152773 -0.57730293  0.00991216 -0.7552751\n",
      " -0.01979093 -0.05600656 -0.5917845  -0.33114555 -0.06478009  0.9568852\n",
      " -0.06909798 -0.05480166  0.24075851 -0.6654001   0.83404076  0.5585476\n",
      "  0.35953704]\n",
      "\n",
      "Mean accuracy of the training set:\n",
      "adept multi-classes model: 0.5660874961216258\n",
      "Accuracy of val sets:\n",
      "ADEPT multi-classes model: 0.6468032278088144\n",
      "Accuracy of test sets:\n",
      "ADEPT multi-classes model: 0.6668734491315137\n"
     ]
    }
   ],
   "source": [
    "# extract only sentence 2\n",
    "def extract_sentence2(data):\n",
    "    adept_sentences = []\n",
    "    for item in data:\n",
    "        adept_sentences.append(item['sentence2'])\n",
    "\n",
    "    return adept_sentences\n",
    "\n",
    "\n",
    "# get document vector for train set\n",
    "adept_train_sentences = extract_sentence2(adept_train_data)\n",
    "adept_train_tokenized = tokenize(adept_train_sentences)\n",
    "adept_train_document_vectors = get_vector(adept_train_tokenized)\n",
    "\n",
    "\n",
    "#  print example document vectors from adept\n",
    "for i, doc in enumerate(adept_train_sentences[:2]):\n",
    "    print(\"Document\", i+1, \":\", doc)\n",
    "    print(\"Vector:\", adept_train_document_vectors[i])\n",
    "    print()\n",
    "\n",
    "# train models (with early stopping)\n",
    "adept_classifier = Perceptron(tol=1e-3, random_state=0, early_stopping=True)\n",
    "adept_classifier.fit(adept_train_document_vectors, adept_train_labels)\n",
    "\n",
    "# print mean accuracy for train set\n",
    "print(\"Mean accuracy of the training set:\")\n",
    "print(f\"adept multi-classes model: {adept_classifier.score(adept_train_document_vectors, adept_train_labels)}\")\n",
    "\n",
    "# get document vectors for val set\n",
    "adept_val_sentences = extract_sentence2(adept_val_data)\n",
    "adept_val_tokenized = tokenize(adept_val_sentences)\n",
    "adept_val_document_vectors = get_vector(adept_val_tokenized)\n",
    "\n",
    "# test model with val set\n",
    "adept_val_pred = adept_classifier.predict(adept_val_document_vectors)\n",
    "print(\"Accuracy of val sets:\")\n",
    "print(f'ADEPT multi-classes model: {accuracy_score(adept_val_labels, adept_val_pred)}')\n",
    "\n",
    "# # get document vector for test set\n",
    "adept_test_sentences = extract_sentence2(adept_test_data)\n",
    "adept_test_tokenized = tokenize(adept_test_sentences)\n",
    "adept_test_document_vectors = get_vector(adept_test_tokenized)\n",
    "\n",
    "# # test models with test set\n",
    "adept_test_pred = adept_classifier.predict(adept_test_document_vectors)\n",
    "with open('adept_perceptron_predictions.csv', 'w') as f:\n",
    "    f.write('sentence;predicted_label\\n')\n",
    "    for sent, prediction in zip(adept_test_sentences, adept_test_pred.tolist()):\n",
    "        f.write(sent + ';' + str(prediction) + '\\n')\n",
    "\n",
    "print(\"Accuracy of test sets:\")\n",
    "print(f'ADEPT multi-classes model: {accuracy_score(adept_test_labels, adept_test_pred)}')"
   ]
  },
  {
   "cell_type": "markdown",
   "metadata": {},
   "source": [
    "### pap"
   ]
  },
  {
   "cell_type": "code",
   "execution_count": 39,
   "metadata": {},
   "outputs": [
    {
     "name": "stdout",
     "output_type": "stream",
     "text": [
      "Document 1 : event occurs year\n",
      "Vector: [ 0.28233284  0.04954379  0.16533929 -0.34320468 -0.08998516 -0.18389662\n",
      "  0.31326807  0.39751092  0.0052392  -0.41802603  0.21100833 -0.08489093\n",
      " -0.06006292  0.11309139 -0.36123013  0.52481467  0.33098006 -0.19439434\n",
      " -0.19194964  0.19148807  0.05928874  0.20479481  0.18891476  0.15458448\n",
      "  0.48108602]\n",
      "\n",
      "Document 2 : tortoise brings limb\n",
      "Vector: [ 0.351537    0.022253    0.10919416 -0.3845272  -0.17515829 -0.12565927\n",
      "  0.37557638  0.36184394  0.00363163 -0.4223897   0.21047516 -0.10207937\n",
      " -0.03482723  0.13614942 -0.4224838   0.5128126   0.35630327 -0.17363293\n",
      " -0.22952853  0.21627757  0.01363221  0.25009552  0.19937404  0.18027058\n",
      "  0.40915707]\n",
      "\n",
      "Mean accuracy of the training set:\n",
      "pap binary model: 0.6927083333333334\n",
      "pap multi-class model: 0.37037037037037035\n",
      "Accuracy of dev sets:\n",
      "pap binary model: 0.5\n",
      "pap multi-class model: 0.28703703703703703\n",
      "Accuracy of test sets:\n",
      "pap binary model: 0.5185185185185185\n",
      "pap multi-class model: 0.125\n"
     ]
    }
   ],
   "source": [
    "# get document vector for train set\n",
    "pap_bin_train_tokenized = tokenize(pap_bin_train_data)\n",
    "pap_bin_train_document_vectors = get_vector(pap_bin_train_tokenized)\n",
    "\n",
    "pap_multi_train_tokenized = tokenize(pap_multi_train_data)\n",
    "pap_multi_train_document_vectors = get_vector(pap_multi_train_tokenized)\n",
    "\n",
    "#  print the example document vectors from pap\n",
    "for i, doc in enumerate(pap_bin_train_data[:2]):\n",
    "    print(\"Document\", i+1, \":\", doc)\n",
    "    print(\"Vector:\", pap_bin_train_document_vectors[i])\n",
    "    print()\n",
    "\n",
    "# train models\n",
    "pap_bin_classifier = Perceptron(tol=1e-3, random_state=0)\n",
    "pap_bin_classifier.fit(pap_bin_train_document_vectors, pap_bin_train_labels)\n",
    "\n",
    "pap_multi_classifier = Perceptron(tol=1e-3, random_state=0)\n",
    "pap_multi_classifier.fit(pap_multi_train_document_vectors, pap_multi_train_labels)\n",
    "\n",
    "# print mean accuracy for train set\n",
    "print(\"Mean accuracy of the training set:\")\n",
    "print(f\"pap binary model: {pap_bin_classifier.score(pap_bin_train_document_vectors, pap_bin_train_labels)}\")\n",
    "print(f\"pap multi-class model: {pap_multi_classifier.score(pap_multi_train_document_vectors, pap_multi_train_labels)}\")\n",
    "\n",
    "# testing binary model with dev set\n",
    "pap_bin_dev_tokenized = tokenize(pap_bin_dev_data)\n",
    "pap_bin_dev_document_vectors = get_vector(pap_bin_dev_tokenized)\n",
    "pap_bin_dev_pred = pap_bin_classifier.predict(pap_bin_dev_document_vectors)\n",
    "\n",
    "# testing multi-class models with dev set\n",
    "pap_multi_dev_tokenized = tokenize(pap_multi_dev_data)\n",
    "pap_multi_dev_document_vectors = get_vector(pap_multi_dev_tokenized)\n",
    "pap_multi_dev_pred = pap_multi_classifier.predict(pap_multi_dev_document_vectors)\n",
    "\n",
    "# print accuracy\n",
    "print(\"Accuracy of dev sets:\")\n",
    "print(f'pap binary model: {accuracy_score(pap_bin_dev_labels, pap_bin_dev_pred)}')\n",
    "print(f'pap multi-class model: {accuracy_score(pap_multi_dev_labels, pap_multi_dev_pred)}')\n",
    "\n",
    "# # testing binary model with test set\n",
    "pap_bin_test_tokenized = tokenize(pap_bin_test_data)\n",
    "pap_bin_test_document_vectors = get_vector(pap_bin_test_tokenized)\n",
    "pap_bin_test_pred = pap_bin_classifier.predict(pap_bin_test_document_vectors)\n",
    "\n",
    "with open('pap_bin_perceptron_predictions.csv', 'w') as f:\n",
    "    f.write('sentence,predicted_label\\n')\n",
    "    for sent, prediction in zip(pap_bin_test_data, pap_bin_test_pred.tolist()):\n",
    "        f.write(sent + ',' + str(prediction) + '\\n')\n",
    "\n",
    "# # testing multi-class models with test set\n",
    "pap_multi_test_tokenized = tokenize(pap_multi_test_data)\n",
    "pap_multi_test_document_vectors = get_vector(pap_multi_test_tokenized)\n",
    "pap_multi_test_pred = pap_bin_classifier.predict(pap_multi_test_document_vectors)\n",
    "\n",
    "with open('pap_multi_perceptron_predictions.csv', 'w') as f:\n",
    "    f.write('sentence,predicted_label\\n')\n",
    "    for sent, prediction in zip(pap_multi_test_data, pap_multi_test_pred.tolist()):\n",
    "        f.write(sent + ',' + str(prediction) + '\\n')\n",
    "\n",
    "# print accuracy\n",
    "print(\"Accuracy of test sets:\")\n",
    "print(f'pap binary model: {accuracy_score(pap_bin_test_labels, pap_bin_test_pred)}')\n",
    "print(f'pap multi-class model: {accuracy_score(pap_multi_test_labels, pap_multi_test_pred)}')"
   ]
  },
  {
   "cell_type": "markdown",
   "metadata": {},
   "source": [
    "## RoBERTa"
   ]
  },
  {
   "cell_type": "markdown",
   "metadata": {},
   "source": [
    "fine-tuning process referenced here: https://huggingface.co/docs/transformers/main_classes/trainer"
   ]
  },
  {
   "cell_type": "markdown",
   "metadata": {},
   "source": [
    "### adept"
   ]
  },
  {
   "cell_type": "code",
   "execution_count": 40,
   "metadata": {},
   "outputs": [],
   "source": [
    "##### dataset creation - adept\n",
    "\n",
    "adept_train_dict = {\n",
    "    'label': [instance['label'] for instance in adept_train],\n",
    "    'text': [instance['sentence2'] for instance in adept_train]\n",
    "}\n",
    "adept_val_dict = {\n",
    "    'label': [instance['label'] for instance in adept_val],\n",
    "    'text': [instance['sentence2'] for instance in adept_val]\n",
    "}\n",
    "adept_test_dict = {\n",
    "    'label': [instance['label'] for instance in adept_test],\n",
    "    'text': [instance['sentence2'] for instance in adept_test]\n",
    "}\n",
    "\n",
    "adept_train_set = Dataset.from_dict(adept_train_dict)\n",
    "adept_val_set = Dataset.from_dict(adept_val_dict)"
   ]
  },
  {
   "cell_type": "code",
   "execution_count": 41,
   "metadata": {},
   "outputs": [
    {
     "name": "stderr",
     "output_type": "stream",
     "text": [
      "Some weights of RobertaForSequenceClassification were not initialized from the model checkpoint at roberta-base and are newly initialized: ['classifier.dense.bias', 'classifier.dense.weight', 'classifier.out_proj.weight', 'classifier.out_proj.bias']\n",
      "You should probably TRAIN this model on a down-stream task to be able to use it for predictions and inference.\n",
      "Map: 100%|██████████| 12892/12892 [00:01<00:00, 11479.10 examples/s]\n",
      "Map: 100%|██████████| 1611/1611 [00:00<00:00, 12141.85 examples/s]\n"
     ]
    }
   ],
   "source": [
    "# Loading model\n",
    "# remove \"device_map\" if GPU not used\n",
    "\n",
    "tokenizer = AutoTokenizer.from_pretrained(\"roberta-base\", device_map = 'cuda')\n",
    "model = AutoModelForSequenceClassification.from_pretrained(\"roberta-base\", num_labels=5, \n",
    "                                                          device_map = 'cuda')\n",
    "\n",
    "def tokenize_function(examples):\n",
    "    return tokenizer(examples[\"text\"], padding=\"max_length\", truncation=True)\n",
    "\n",
    "tokenized_adept_train = adept_train_set.map(tokenize_function, batched=True)\n",
    "tokenized_adept_val = adept_val_set.map(tokenize_function, batched=True)"
   ]
  },
  {
   "cell_type": "code",
   "execution_count": 42,
   "metadata": {},
   "outputs": [
    {
     "data": {
      "text/html": [
       "\n",
       "    <div>\n",
       "      \n",
       "      <progress value='1209' max='1209' style='width:300px; height:20px; vertical-align: middle;'></progress>\n",
       "      [1209/1209 38:26, Epoch 3/3]\n",
       "    </div>\n",
       "    <table border=\"1\" class=\"dataframe\">\n",
       "  <thead>\n",
       " <tr style=\"text-align: left;\">\n",
       "      <th>Epoch</th>\n",
       "      <th>Training Loss</th>\n",
       "      <th>Validation Loss</th>\n",
       "      <th>Accuracy</th>\n",
       "    </tr>\n",
       "  </thead>\n",
       "  <tbody>\n",
       "    <tr>\n",
       "      <td>1</td>\n",
       "      <td>No log</td>\n",
       "      <td>0.861469</td>\n",
       "      <td>0.700186</td>\n",
       "    </tr>\n",
       "    <tr>\n",
       "      <td>2</td>\n",
       "      <td>0.908300</td>\n",
       "      <td>0.867155</td>\n",
       "      <td>0.698324</td>\n",
       "    </tr>\n",
       "    <tr>\n",
       "      <td>3</td>\n",
       "      <td>0.755800</td>\n",
       "      <td>0.891847</td>\n",
       "      <td>0.696462</td>\n",
       "    </tr>\n",
       "  </tbody>\n",
       "</table><p>"
      ],
      "text/plain": [
       "<IPython.core.display.HTML object>"
      ]
     },
     "metadata": {},
     "output_type": "display_data"
    },
    {
     "name": "stderr",
     "output_type": "stream",
     "text": [
      "Checkpoint destination directory ./output_models/checkpoint-403 already exists and is non-empty.Saving will proceed but saved results may be invalid.\n",
      "Checkpoint destination directory ./output_models/checkpoint-806 already exists and is non-empty.Saving will proceed but saved results may be invalid.\n",
      "Checkpoint destination directory ./output_models/checkpoint-1209 already exists and is non-empty.Saving will proceed but saved results may be invalid.\n"
     ]
    },
    {
     "data": {
      "text/plain": [
       "TrainOutput(global_step=1209, training_loss=0.8083190539338748, metrics={'train_runtime': 2308.5768, 'train_samples_per_second': 16.753, 'train_steps_per_second': 0.524, 'total_flos': 1.0176357277937664e+16, 'train_loss': 0.8083190539338748, 'epoch': 3.0})"
      ]
     },
     "execution_count": 42,
     "metadata": {},
     "output_type": "execute_result"
    }
   ],
   "source": [
    "# Fine-Tuning using Trainer\n",
    "accuracy = evaluate.load(\"accuracy\")\n",
    "def compute_metrics(eval_pred):\n",
    "    predictions, labels = eval_pred\n",
    "    predictions = np.argmax(predictions, axis=1)\n",
    "    return accuracy.compute(predictions=predictions, references=labels)\n",
    "\n",
    "training_args = TrainingArguments(\n",
    "    output_dir=\"./output_models\",\n",
    "    save_strategy=\"epoch\",\n",
    "    evaluation_strategy=\"epoch\",\n",
    "    metric_for_best_model=\"accuracy\",\n",
    "    learning_rate=3e-5,\n",
    "    per_device_train_batch_size=8,\n",
    "    per_device_eval_batch_size=32,\n",
    "    num_train_epochs=3,\n",
    "    gradient_accumulation_steps=4,\n",
    "    weight_decay=0.01\n",
    ")\n",
    "\n",
    "data_collator = DefaultDataCollator()\n",
    "\n",
    "trainer = Trainer(\n",
    "    model=model,\n",
    "    tokenizer=tokenizer,\n",
    "    args=training_args,\n",
    "    data_collator=data_collator,\n",
    "    train_dataset=tokenized_adept_train,\n",
    "    eval_dataset=tokenized_adept_val,\n",
    "    compute_metrics=compute_metrics,\n",
    ")\n",
    "\n",
    "# training\n",
    "trainer.train()"
   ]
  },
  {
   "cell_type": "code",
   "execution_count": 43,
   "metadata": {},
   "outputs": [
    {
     "data": {
      "text/html": [
       "\n",
       "    <div>\n",
       "      \n",
       "      <progress value='51' max='51' style='width:300px; height:20px; vertical-align: middle;'></progress>\n",
       "      [51/51 00:31]\n",
       "    </div>\n",
       "    "
      ],
      "text/plain": [
       "<IPython.core.display.HTML object>"
      ]
     },
     "metadata": {},
     "output_type": "display_data"
    },
    {
     "data": {
      "text/plain": [
       "{'eval_loss': 0.8918473720550537,\n",
       " 'eval_accuracy': 0.6964618249534451,\n",
       " 'eval_runtime': 32.1504,\n",
       " 'eval_samples_per_second': 50.108,\n",
       " 'eval_steps_per_second': 1.586,\n",
       " 'epoch': 3.0}"
      ]
     },
     "execution_count": 43,
     "metadata": {},
     "output_type": "execute_result"
    }
   ],
   "source": [
    "# final evaluation\n",
    "trainer.evaluate()"
   ]
  },
  {
   "cell_type": "markdown",
   "metadata": {},
   "source": [
    "Training results (Example) <br>\n",
    "(takes around 30min on cuda)\n",
    "\n",
    "initial evaluation: <br>\n",
    "\n",
    "| eval_loss        | eval_accuracy    | eval_runtime | eval_samples_per_second | eval_steps_per_second |\n",
    "|------------------|------------------|--------------|-------------------------|-----------------------|\n",
    "| 1.5099514722824097 | 0.6641837368094351 | 18.7982  | 85.7        | 2.713        |\n",
    "\n",
    "training output:\n",
    "\n",
    "| Epoch         | Training Loss    | Validation Loss | Accuracy        |\n",
    "|---------------|------------------|-----------------|-----------------|\n",
    "| 1             | No log           | 0.861079        | 0.705152        |\n",
    "| 2             | 0.905100         | 0.851406        | 0.698945        |\n",
    "| 2             | 0.742600         | 0.882088        | 0.700186        |\n",
    "\n",
    "final evaluation (after 3 epochs): <br>\n",
    "\n",
    "| eval_loss        | eval_accuracy    | eval_runtime | eval_samples_per_second | eval_steps_per_second |\n",
    "|------------------|------------------|--------------|-------------------------|-----------------------|\n",
    "| 0.8820875883102417 | 0.7001862197392924 | 18.5304  | 86.938        | 2.752        |"
   ]
  },
  {
   "cell_type": "code",
   "execution_count": 44,
   "metadata": {},
   "outputs": [],
   "source": [
    "pipe = pipeline(\"text-classification\", model=model, tokenizer=tokenizer, device_map = 'cuda')\n",
    "results = pipe(adept_test_dict['text'])\n",
    "\n",
    "adept_test_idxs = [instance['idx'] for instance in adept_test]\n",
    "\n",
    "# save predictions as csv-file for evaluation\n",
    "with open(\"adept_roberta_3epochs.csv\", 'w') as outfile:\n",
    "    outfile.write(\"text,predicted_label\\n\")\n",
    "    for idx, output in zip(adept_test_idxs, results):\n",
    "        # take idx 6 of label, because that is the number ('LABEL_4')\n",
    "        outfile.write(f\"{idx},{output['label'][6]}\\n\")"
   ]
  },
  {
   "cell_type": "markdown",
   "metadata": {},
   "source": [
    "### pap"
   ]
  },
  {
   "cell_type": "code",
   "execution_count": 45,
   "metadata": {},
   "outputs": [],
   "source": [
    "##### dataset creation - pap\n",
    "\n",
    "pap_train_dict = {\n",
    "    # decrease the label by one so it starts at 0\n",
    "    'label': [int(instance['label'])-1 for instance in pap_multi_train],\n",
    "    'text': [instance['text'] for instance in pap_multi_train]\n",
    "}\n",
    "pap_dev_dict = {\n",
    "    'label': [int(instance['label'])-1 for instance in pap_multi_dev],\n",
    "    'text': [instance['text'] for instance in pap_multi_dev]\n",
    "}\n",
    "pap_test_dict = {\n",
    "    'label': [int(instance['label'])-1 for instance in pap_multi_test],\n",
    "    'text': [instance['text'] for instance in pap_multi_test]\n",
    "}\n",
    "\n",
    "pap_train_set = Dataset.from_dict(pap_train_dict)\n",
    "pap_dev_set = Dataset.from_dict(pap_dev_dict)"
   ]
  },
  {
   "cell_type": "code",
   "execution_count": 46,
   "metadata": {},
   "outputs": [
    {
     "name": "stderr",
     "output_type": "stream",
     "text": [
      "Some weights of RobertaForSequenceClassification were not initialized from the model checkpoint at roberta-base and are newly initialized: ['classifier.dense.bias', 'classifier.dense.weight', 'classifier.out_proj.weight', 'classifier.out_proj.bias']\n",
      "You should probably TRAIN this model on a down-stream task to be able to use it for predictions and inference.\n",
      "Map: 100%|██████████| 1728/1728 [00:00<00:00, 9383.92 examples/s]\n",
      "Map: 100%|██████████| 216/216 [00:00<00:00, 9041.61 examples/s]\n"
     ]
    }
   ],
   "source": [
    "# Loading model (reinitialize)\n",
    "# remove \"device_map\" if GPU not used\n",
    "\n",
    "tokenizer = AutoTokenizer.from_pretrained(\"roberta-base\", device_map = 'cuda')\n",
    "model = AutoModelForSequenceClassification.from_pretrained(\"roberta-base\", num_labels=5, \n",
    "                                                           problem_type=\"single_label_classification\",\n",
    "                                                          device_map = 'cuda')\n",
    "\n",
    "def tokenize_function(examples):\n",
    "    return tokenizer(examples[\"text\"], padding=\"max_length\", truncation=True)\n",
    "\n",
    "tokenized_pap_train = pap_train_set.map(tokenize_function, batched=True)\n",
    "tokenized_pap_dev = pap_dev_set.map(tokenize_function, batched=True)"
   ]
  },
  {
   "cell_type": "code",
   "execution_count": 47,
   "metadata": {},
   "outputs": [
    {
     "data": {
      "text/html": [
       "\n",
       "    <div>\n",
       "      \n",
       "      <progress value='2160' max='2160' style='width:300px; height:20px; vertical-align: middle;'></progress>\n",
       "      [2160/2160 09:54, Epoch 5/5]\n",
       "    </div>\n",
       "    <table border=\"1\" class=\"dataframe\">\n",
       "  <thead>\n",
       " <tr style=\"text-align: left;\">\n",
       "      <th>Epoch</th>\n",
       "      <th>Training Loss</th>\n",
       "      <th>Validation Loss</th>\n",
       "      <th>Accuracy</th>\n",
       "    </tr>\n",
       "  </thead>\n",
       "  <tbody>\n",
       "    <tr>\n",
       "      <td>1</td>\n",
       "      <td>No log</td>\n",
       "      <td>1.410953</td>\n",
       "      <td>0.333333</td>\n",
       "    </tr>\n",
       "    <tr>\n",
       "      <td>2</td>\n",
       "      <td>1.322600</td>\n",
       "      <td>1.313517</td>\n",
       "      <td>0.365741</td>\n",
       "    </tr>\n",
       "    <tr>\n",
       "      <td>3</td>\n",
       "      <td>1.162400</td>\n",
       "      <td>1.414168</td>\n",
       "      <td>0.384259</td>\n",
       "    </tr>\n",
       "    <tr>\n",
       "      <td>4</td>\n",
       "      <td>0.965700</td>\n",
       "      <td>1.723106</td>\n",
       "      <td>0.356481</td>\n",
       "    </tr>\n",
       "    <tr>\n",
       "      <td>5</td>\n",
       "      <td>0.781700</td>\n",
       "      <td>1.892350</td>\n",
       "      <td>0.365741</td>\n",
       "    </tr>\n",
       "  </tbody>\n",
       "</table><p>"
      ],
      "text/plain": [
       "<IPython.core.display.HTML object>"
      ]
     },
     "metadata": {},
     "output_type": "display_data"
    },
    {
     "name": "stderr",
     "output_type": "stream",
     "text": [
      "Checkpoint destination directory ./output_models/checkpoint-432 already exists and is non-empty.Saving will proceed but saved results may be invalid.\n",
      "Checkpoint destination directory ./output_models/checkpoint-864 already exists and is non-empty.Saving will proceed but saved results may be invalid.\n",
      "Checkpoint destination directory ./output_models/checkpoint-1296 already exists and is non-empty.Saving will proceed but saved results may be invalid.\n",
      "Checkpoint destination directory ./output_models/checkpoint-1728 already exists and is non-empty.Saving will proceed but saved results may be invalid.\n",
      "Checkpoint destination directory ./output_models/checkpoint-2160 already exists and is non-empty.Saving will proceed but saved results may be invalid.\n"
     ]
    },
    {
     "data": {
      "text/plain": [
       "TrainOutput(global_step=2160, training_loss=1.0343514336480035, metrics={'train_runtime': 595.0009, 'train_samples_per_second': 14.521, 'train_steps_per_second': 3.63, 'total_flos': 2273340750888960.0, 'train_loss': 1.0343514336480035, 'epoch': 5.0})"
      ]
     },
     "execution_count": 47,
     "metadata": {},
     "output_type": "execute_result"
    }
   ],
   "source": [
    "# Fine-Tuning using trainer\n",
    "accuracy = evaluate.load(\"accuracy\")\n",
    "def compute_metrics(eval_pred):\n",
    "    predictions, labels = eval_pred\n",
    "    predictions = np.argmax(predictions, axis=1)\n",
    "    return accuracy.compute(predictions=predictions, references=labels)\n",
    "\n",
    "training_args = TrainingArguments(\n",
    "    output_dir=\"./output_models\",\n",
    "    save_strategy=\"epoch\",\n",
    "    evaluation_strategy=\"epoch\",\n",
    "    metric_for_best_model=\"accuracy\",\n",
    "    learning_rate=2e-5,\n",
    "    per_device_train_batch_size=4,\n",
    "    per_device_eval_batch_size=32,\n",
    "    num_train_epochs=5,\n",
    "    weight_decay=0.01\n",
    ")\n",
    "\n",
    "data_collator = DefaultDataCollator()\n",
    "\n",
    "trainer = Trainer(\n",
    "    model=model,\n",
    "    tokenizer=tokenizer,\n",
    "    args=training_args,\n",
    "    data_collator=data_collator,\n",
    "    train_dataset=tokenized_pap_train,\n",
    "    eval_dataset=tokenized_pap_dev,\n",
    "    compute_metrics=compute_metrics,\n",
    ")\n",
    "\n",
    "# training\n",
    "trainer.train()"
   ]
  },
  {
   "cell_type": "code",
   "execution_count": 48,
   "metadata": {},
   "outputs": [
    {
     "data": {
      "text/html": [
       "\n",
       "    <div>\n",
       "      \n",
       "      <progress value='7' max='7' style='width:300px; height:20px; vertical-align: middle;'></progress>\n",
       "      [7/7 00:03]\n",
       "    </div>\n",
       "    "
      ],
      "text/plain": [
       "<IPython.core.display.HTML object>"
      ]
     },
     "metadata": {},
     "output_type": "display_data"
    },
    {
     "data": {
      "text/plain": [
       "{'eval_loss': 1.8923498392105103,\n",
       " 'eval_accuracy': 0.36574074074074076,\n",
       " 'eval_runtime': 4.1835,\n",
       " 'eval_samples_per_second': 51.631,\n",
       " 'eval_steps_per_second': 1.673,\n",
       " 'epoch': 5.0}"
      ]
     },
     "execution_count": 48,
     "metadata": {},
     "output_type": "execute_result"
    }
   ],
   "source": [
    "# final evaluation\n",
    "trainer.evaluate()"
   ]
  },
  {
   "cell_type": "markdown",
   "metadata": {},
   "source": [
    "Training results (Example) <br>\n",
    "(takes around 10min on cuda)\n",
    "\n",
    "initial evaluation: <br>\n",
    "\n",
    "| eval_loss        | eval_accuracy    | eval_runtime | eval_samples_per_second | eval_steps_per_second |\n",
    "|------------------|------------------|--------------|-------------------------|-----------------------|\n",
    "| 1.653960108757019 | 0.12962962962962962 | 2.9102  | 74.222        | 2.405        |\n",
    "\n",
    "training output:\n",
    "\n",
    "| Epoch         | Training Loss    | Validation Loss | Accuracy        |\n",
    "|---------------|------------------|-----------------|-----------------|\n",
    "| 1             | No log           | 1.263671        | 0.407407        |\n",
    "| 2             | 1.321800         | 1.389113        | 0.337963        |\n",
    "| 3             | 1.145200         | 1.457842        | 0.393519        |\n",
    "| 4             | 0.958300         | 1.604203        | 0.398148        |\n",
    "| 5             | 0.787800         | 1.720298        | 0.407407        |\n",
    "\n",
    "final evaluation (after 5 epochs): <br>\n",
    "\n",
    "| eval_loss        | eval_accuracy    | eval_runtime | eval_samples_per_second | eval_steps_per_second |\n",
    "|------------------|------------------|--------------|-------------------------|-----------------------|\n",
    "| 1.7202976942062378 | 0.4074074074074074 | 2.533  | 85.276        | 2.764        |"
   ]
  },
  {
   "cell_type": "code",
   "execution_count": 49,
   "metadata": {},
   "outputs": [],
   "source": [
    "pipe = pipeline(\"text-classification\", model=model, tokenizer=tokenizer)\n",
    "results = pipe(pap_test_dict['text'])\n",
    "\n",
    "# save predictions as csv-file for evaluation\n",
    "with open(\"pap_roberta_5epochs.csv\", 'w') as outfile:\n",
    "    outfile.write(\"text,predicted_label\\n\")\n",
    "    for sentence, output in zip(pap_test_dict['text'], results):\n",
    "        # take idx 6 of label, because that is the number ('LABEL_4') and increase by one, so it corresponds to original set\n",
    "        outfile.write(f\"{sentence},{int(output['label'][6])+1}\\n\")"
   ]
  },
  {
   "cell_type": "markdown",
   "metadata": {},
   "source": [
    "## Evaluation"
   ]
  },
  {
   "cell_type": "markdown",
   "metadata": {},
   "source": [
    "We look at AUC-ROC scores and confusion matrices for evaluation\n",
    "\n",
    "AUC-ROC scores were calculated with the help of: https://stackoverflow.com/questions/63303682/sklearn-multiclass-roc-auc-score\n",
    "\n",
    "Confusion matrices were created with: https://scikit-learn.org/stable/modules/generated/sklearn.metrics.ConfusionMatrixDisplay.html"
   ]
  },
  {
   "cell_type": "markdown",
   "metadata": {},
   "source": [
    "#### Load RoBERTa model predictions"
   ]
  },
  {
   "cell_type": "code",
   "execution_count": 50,
   "metadata": {},
   "outputs": [
    {
     "data": {
      "text/html": [
       "<div>\n",
       "<style scoped>\n",
       "    .dataframe tbody tr th:only-of-type {\n",
       "        vertical-align: middle;\n",
       "    }\n",
       "\n",
       "    .dataframe tbody tr th {\n",
       "        vertical-align: top;\n",
       "    }\n",
       "\n",
       "    .dataframe thead th {\n",
       "        text-align: right;\n",
       "    }\n",
       "</style>\n",
       "<table border=\"1\" class=\"dataframe\">\n",
       "  <thead>\n",
       "    <tr style=\"text-align: right;\">\n",
       "      <th></th>\n",
       "      <th>sentence1</th>\n",
       "      <th>sentence2</th>\n",
       "      <th>modifier</th>\n",
       "      <th>noun</th>\n",
       "      <th>label</th>\n",
       "      <th>idx</th>\n",
       "      <th>text</th>\n",
       "      <th>predicted_label</th>\n",
       "    </tr>\n",
       "  </thead>\n",
       "  <tbody>\n",
       "    <tr>\n",
       "      <th>0</th>\n",
       "      <td>Urine is tested to check for disease.</td>\n",
       "      <td>Dark urine is tested to check for disease.</td>\n",
       "      <td>dark</td>\n",
       "      <td>urine</td>\n",
       "      <td>3</td>\n",
       "      <td>2082</td>\n",
       "      <td>2082</td>\n",
       "      <td>2</td>\n",
       "    </tr>\n",
       "    <tr>\n",
       "      <th>1</th>\n",
       "      <td>News is relevant.</td>\n",
       "      <td>False news is relevant.</td>\n",
       "      <td>false</td>\n",
       "      <td>news</td>\n",
       "      <td>1</td>\n",
       "      <td>12641</td>\n",
       "      <td>12641</td>\n",
       "      <td>1</td>\n",
       "    </tr>\n",
       "    <tr>\n",
       "      <th>2</th>\n",
       "      <td>Rice is stirred.</td>\n",
       "      <td>Fresh rice is stirred.</td>\n",
       "      <td>fresh</td>\n",
       "      <td>rice</td>\n",
       "      <td>2</td>\n",
       "      <td>11485</td>\n",
       "      <td>11485</td>\n",
       "      <td>2</td>\n",
       "    </tr>\n",
       "    <tr>\n",
       "      <th>3</th>\n",
       "      <td>Plastic is made of carbon.</td>\n",
       "      <td>Colorful plastic is made of carbon.</td>\n",
       "      <td>colorful</td>\n",
       "      <td>plastic</td>\n",
       "      <td>2</td>\n",
       "      <td>886</td>\n",
       "      <td>886</td>\n",
       "      <td>2</td>\n",
       "    </tr>\n",
       "    <tr>\n",
       "      <th>4</th>\n",
       "      <td>Sometimes hiking causes a smile.</td>\n",
       "      <td>Sometimes abundant hiking causes a smile.</td>\n",
       "      <td>abundant</td>\n",
       "      <td>hiking</td>\n",
       "      <td>2</td>\n",
       "      <td>5863</td>\n",
       "      <td>5863</td>\n",
       "      <td>3</td>\n",
       "    </tr>\n",
       "    <tr>\n",
       "      <th>...</th>\n",
       "      <td>...</td>\n",
       "      <td>...</td>\n",
       "      <td>...</td>\n",
       "      <td>...</td>\n",
       "      <td>...</td>\n",
       "      <td>...</td>\n",
       "      <td>...</td>\n",
       "      <td>...</td>\n",
       "    </tr>\n",
       "    <tr>\n",
       "      <th>1607</th>\n",
       "      <td>A heater is used in the winter.</td>\n",
       "      <td>A hot heater is used in the winter.</td>\n",
       "      <td>hot</td>\n",
       "      <td>heater</td>\n",
       "      <td>2</td>\n",
       "      <td>12858</td>\n",
       "      <td>12858</td>\n",
       "      <td>3</td>\n",
       "    </tr>\n",
       "    <tr>\n",
       "      <th>1608</th>\n",
       "      <td>You use a tin to make ornaments.</td>\n",
       "      <td>You use a convenient tin to make ornaments.</td>\n",
       "      <td>convenient</td>\n",
       "      <td>tin</td>\n",
       "      <td>2</td>\n",
       "      <td>14438</td>\n",
       "      <td>14438</td>\n",
       "      <td>2</td>\n",
       "    </tr>\n",
       "    <tr>\n",
       "      <th>1609</th>\n",
       "      <td>A table is for writing at it.</td>\n",
       "      <td>A quarterly table is for writing at it.</td>\n",
       "      <td>quarterly</td>\n",
       "      <td>table</td>\n",
       "      <td>0</td>\n",
       "      <td>4931</td>\n",
       "      <td>4931</td>\n",
       "      <td>2</td>\n",
       "    </tr>\n",
       "    <tr>\n",
       "      <th>1610</th>\n",
       "      <td>A dollar equals four quarters.</td>\n",
       "      <td>A millionth dollar equals four quarters.</td>\n",
       "      <td>millionth</td>\n",
       "      <td>dollar</td>\n",
       "      <td>0</td>\n",
       "      <td>9189</td>\n",
       "      <td>9189</td>\n",
       "      <td>2</td>\n",
       "    </tr>\n",
       "    <tr>\n",
       "      <th>1611</th>\n",
       "      <td>A cake is for a birthday.</td>\n",
       "      <td>A fake cake is for a birthday.</td>\n",
       "      <td>fake</td>\n",
       "      <td>cake</td>\n",
       "      <td>0</td>\n",
       "      <td>6191</td>\n",
       "      <td>6191</td>\n",
       "      <td>1</td>\n",
       "    </tr>\n",
       "  </tbody>\n",
       "</table>\n",
       "<p>1612 rows × 8 columns</p>\n",
       "</div>"
      ],
      "text/plain": [
       "                                  sentence1  \\\n",
       "0     Urine is tested to check for disease.   \n",
       "1                         News is relevant.   \n",
       "2                          Rice is stirred.   \n",
       "3                Plastic is made of carbon.   \n",
       "4          Sometimes hiking causes a smile.   \n",
       "...                                     ...   \n",
       "1607        A heater is used in the winter.   \n",
       "1608       You use a tin to make ornaments.   \n",
       "1609          A table is for writing at it.   \n",
       "1610         A dollar equals four quarters.   \n",
       "1611              A cake is for a birthday.   \n",
       "\n",
       "                                        sentence2    modifier     noun  label  \\\n",
       "0      Dark urine is tested to check for disease.        dark    urine      3   \n",
       "1                         False news is relevant.       false     news      1   \n",
       "2                          Fresh rice is stirred.       fresh     rice      2   \n",
       "3             Colorful plastic is made of carbon.    colorful  plastic      2   \n",
       "4       Sometimes abundant hiking causes a smile.    abundant   hiking      2   \n",
       "...                                           ...         ...      ...    ...   \n",
       "1607          A hot heater is used in the winter.         hot   heater      2   \n",
       "1608  You use a convenient tin to make ornaments.  convenient      tin      2   \n",
       "1609      A quarterly table is for writing at it.   quarterly    table      0   \n",
       "1610     A millionth dollar equals four quarters.   millionth   dollar      0   \n",
       "1611               A fake cake is for a birthday.        fake     cake      0   \n",
       "\n",
       "        idx   text  predicted_label  \n",
       "0      2082   2082                2  \n",
       "1     12641  12641                1  \n",
       "2     11485  11485                2  \n",
       "3       886    886                2  \n",
       "4      5863   5863                3  \n",
       "...     ...    ...              ...  \n",
       "1607  12858  12858                3  \n",
       "1608  14438  14438                2  \n",
       "1609   4931   4931                2  \n",
       "1610   9189   9189                2  \n",
       "1611   6191   6191                1  \n",
       "\n",
       "[1612 rows x 8 columns]"
      ]
     },
     "metadata": {},
     "output_type": "display_data"
    },
    {
     "data": {
      "text/html": [
       "<div>\n",
       "<style scoped>\n",
       "    .dataframe tbody tr th:only-of-type {\n",
       "        vertical-align: middle;\n",
       "    }\n",
       "\n",
       "    .dataframe tbody tr th {\n",
       "        vertical-align: top;\n",
       "    }\n",
       "\n",
       "    .dataframe thead th {\n",
       "        text-align: right;\n",
       "    }\n",
       "</style>\n",
       "<table border=\"1\" class=\"dataframe\">\n",
       "  <thead>\n",
       "    <tr style=\"text-align: right;\">\n",
       "      <th></th>\n",
       "      <th>text</th>\n",
       "      <th>original_label</th>\n",
       "      <th>label</th>\n",
       "      <th>predicted_label</th>\n",
       "    </tr>\n",
       "  </thead>\n",
       "  <tbody>\n",
       "    <tr>\n",
       "      <th>0</th>\n",
       "      <td>film runs way</td>\n",
       "      <td>plausible</td>\n",
       "      <td>5</td>\n",
       "      <td>1</td>\n",
       "    </tr>\n",
       "    <tr>\n",
       "      <th>1</th>\n",
       "      <td>class welcomes reservation</td>\n",
       "      <td>plausible</td>\n",
       "      <td>5</td>\n",
       "      <td>5</td>\n",
       "    </tr>\n",
       "    <tr>\n",
       "      <th>2</th>\n",
       "      <td>malcontent pervades effect</td>\n",
       "      <td>implausible</td>\n",
       "      <td>5</td>\n",
       "      <td>1</td>\n",
       "    </tr>\n",
       "    <tr>\n",
       "      <th>3</th>\n",
       "      <td>abuser exploits atmosphere</td>\n",
       "      <td>plausible</td>\n",
       "      <td>4</td>\n",
       "      <td>5</td>\n",
       "    </tr>\n",
       "    <tr>\n",
       "      <th>4</th>\n",
       "      <td>film utilizes footage</td>\n",
       "      <td>plausible</td>\n",
       "      <td>5</td>\n",
       "      <td>4</td>\n",
       "    </tr>\n",
       "    <tr>\n",
       "      <th>...</th>\n",
       "      <td>...</td>\n",
       "      <td>...</td>\n",
       "      <td>...</td>\n",
       "      <td>...</td>\n",
       "    </tr>\n",
       "    <tr>\n",
       "      <th>211</th>\n",
       "      <td>leader alienates land</td>\n",
       "      <td>plausible</td>\n",
       "      <td>5</td>\n",
       "      <td>4</td>\n",
       "    </tr>\n",
       "    <tr>\n",
       "      <th>212</th>\n",
       "      <td>brass subverts confluence</td>\n",
       "      <td>implausible</td>\n",
       "      <td>2</td>\n",
       "      <td>1</td>\n",
       "    </tr>\n",
       "    <tr>\n",
       "      <th>213</th>\n",
       "      <td>owner secures trademark</td>\n",
       "      <td>plausible</td>\n",
       "      <td>5</td>\n",
       "      <td>5</td>\n",
       "    </tr>\n",
       "    <tr>\n",
       "      <th>214</th>\n",
       "      <td>attendee disengages norm</td>\n",
       "      <td>plausible</td>\n",
       "      <td>4</td>\n",
       "      <td>4</td>\n",
       "    </tr>\n",
       "    <tr>\n",
       "      <th>215</th>\n",
       "      <td>spokesman confirms intention</td>\n",
       "      <td>plausible</td>\n",
       "      <td>5</td>\n",
       "      <td>5</td>\n",
       "    </tr>\n",
       "  </tbody>\n",
       "</table>\n",
       "<p>216 rows × 4 columns</p>\n",
       "</div>"
      ],
      "text/plain": [
       "                             text original_label  label  predicted_label\n",
       "0                   film runs way      plausible      5                1\n",
       "1      class welcomes reservation      plausible      5                5\n",
       "2      malcontent pervades effect    implausible      5                1\n",
       "3      abuser exploits atmosphere      plausible      4                5\n",
       "4           film utilizes footage      plausible      5                4\n",
       "..                            ...            ...    ...              ...\n",
       "211         leader alienates land      plausible      5                4\n",
       "212     brass subverts confluence    implausible      2                1\n",
       "213       owner secures trademark      plausible      5                5\n",
       "214      attendee disengages norm      plausible      4                4\n",
       "215  spokesman confirms intention      plausible      5                5\n",
       "\n",
       "[216 rows x 4 columns]"
      ]
     },
     "execution_count": 50,
     "metadata": {},
     "output_type": "execute_result"
    }
   ],
   "source": [
    "nn_path_adept = \"datasets/adept/train-dev-test-split\"\n",
    "\n",
    "with open(nn_path_adept+\"/test.json\", \"r\", encoding=\"utf-8\") as file:\n",
    "    nn_adept_test = json.load(file) \n",
    "\n",
    "nn_adept_test_df = pd.DataFrame.from_dict(nn_adept_test)\n",
    "\n",
    "nn_path_adept_predictions = \"./adept_roberta_3epochs.csv\"\n",
    "nn_adept_predictions_df = pd.read_csv(nn_path_adept_predictions)\n",
    "nn_adept_df = nn_adept_test_df.merge(nn_adept_predictions_df, left_on='idx', right_on='text')\n",
    "display(nn_adept_df)\n",
    "nn_path_pap = \"datasets/pap/train-dev-test-split/multiclass\"\n",
    "\n",
    "nn_pap_test_df = pd.read_csv(nn_path_pap + \"/test.csv\")\n",
    "\n",
    "nn_path_pap_predictions = \"./pap_roberta_5epochs.csv\"\n",
    "nn_pap_predictions_df = pd.read_csv(nn_path_pap_predictions)\n",
    "nn_pap_df = nn_pap_test_df.merge(nn_pap_predictions_df, on='text')\n",
    "nn_pap_df"
   ]
  },
  {
   "cell_type": "markdown",
   "metadata": {},
   "source": [
    "#### Load Perceptron model predictions"
   ]
  },
  {
   "cell_type": "code",
   "execution_count": 51,
   "metadata": {},
   "outputs": [
    {
     "data": {
      "text/html": [
       "<div>\n",
       "<style scoped>\n",
       "    .dataframe tbody tr th:only-of-type {\n",
       "        vertical-align: middle;\n",
       "    }\n",
       "\n",
       "    .dataframe tbody tr th {\n",
       "        vertical-align: top;\n",
       "    }\n",
       "\n",
       "    .dataframe thead th {\n",
       "        text-align: right;\n",
       "    }\n",
       "</style>\n",
       "<table border=\"1\" class=\"dataframe\">\n",
       "  <thead>\n",
       "    <tr style=\"text-align: right;\">\n",
       "      <th></th>\n",
       "      <th>sentence1</th>\n",
       "      <th>sentence2</th>\n",
       "      <th>modifier</th>\n",
       "      <th>noun</th>\n",
       "      <th>label</th>\n",
       "      <th>idx</th>\n",
       "      <th>sentence</th>\n",
       "      <th>predicted_label</th>\n",
       "    </tr>\n",
       "  </thead>\n",
       "  <tbody>\n",
       "    <tr>\n",
       "      <th>0</th>\n",
       "      <td>Urine is tested to check for disease.</td>\n",
       "      <td>Dark urine is tested to check for disease.</td>\n",
       "      <td>dark</td>\n",
       "      <td>urine</td>\n",
       "      <td>3</td>\n",
       "      <td>2082</td>\n",
       "      <td>Dark urine is tested to check for disease.</td>\n",
       "      <td>2</td>\n",
       "    </tr>\n",
       "    <tr>\n",
       "      <th>1</th>\n",
       "      <td>News is relevant.</td>\n",
       "      <td>False news is relevant.</td>\n",
       "      <td>false</td>\n",
       "      <td>news</td>\n",
       "      <td>1</td>\n",
       "      <td>12641</td>\n",
       "      <td>False news is relevant.</td>\n",
       "      <td>2</td>\n",
       "    </tr>\n",
       "    <tr>\n",
       "      <th>2</th>\n",
       "      <td>Rice is stirred.</td>\n",
       "      <td>Fresh rice is stirred.</td>\n",
       "      <td>fresh</td>\n",
       "      <td>rice</td>\n",
       "      <td>2</td>\n",
       "      <td>11485</td>\n",
       "      <td>Fresh rice is stirred.</td>\n",
       "      <td>2</td>\n",
       "    </tr>\n",
       "    <tr>\n",
       "      <th>3</th>\n",
       "      <td>Plastic is made of carbon.</td>\n",
       "      <td>Colorful plastic is made of carbon.</td>\n",
       "      <td>colorful</td>\n",
       "      <td>plastic</td>\n",
       "      <td>2</td>\n",
       "      <td>886</td>\n",
       "      <td>Colorful plastic is made of carbon.</td>\n",
       "      <td>2</td>\n",
       "    </tr>\n",
       "    <tr>\n",
       "      <th>4</th>\n",
       "      <td>Sometimes hiking causes a smile.</td>\n",
       "      <td>Sometimes abundant hiking causes a smile.</td>\n",
       "      <td>abundant</td>\n",
       "      <td>hiking</td>\n",
       "      <td>2</td>\n",
       "      <td>5863</td>\n",
       "      <td>Sometimes abundant hiking causes a smile.</td>\n",
       "      <td>2</td>\n",
       "    </tr>\n",
       "    <tr>\n",
       "      <th>...</th>\n",
       "      <td>...</td>\n",
       "      <td>...</td>\n",
       "      <td>...</td>\n",
       "      <td>...</td>\n",
       "      <td>...</td>\n",
       "      <td>...</td>\n",
       "      <td>...</td>\n",
       "      <td>...</td>\n",
       "    </tr>\n",
       "    <tr>\n",
       "      <th>1607</th>\n",
       "      <td>A heater is used in the winter.</td>\n",
       "      <td>A hot heater is used in the winter.</td>\n",
       "      <td>hot</td>\n",
       "      <td>heater</td>\n",
       "      <td>2</td>\n",
       "      <td>12858</td>\n",
       "      <td>A hot heater is used in the winter.</td>\n",
       "      <td>2</td>\n",
       "    </tr>\n",
       "    <tr>\n",
       "      <th>1608</th>\n",
       "      <td>You use a tin to make ornaments.</td>\n",
       "      <td>You use a convenient tin to make ornaments.</td>\n",
       "      <td>convenient</td>\n",
       "      <td>tin</td>\n",
       "      <td>2</td>\n",
       "      <td>14438</td>\n",
       "      <td>You use a convenient tin to make ornaments.</td>\n",
       "      <td>2</td>\n",
       "    </tr>\n",
       "    <tr>\n",
       "      <th>1609</th>\n",
       "      <td>A table is for writing at it.</td>\n",
       "      <td>A quarterly table is for writing at it.</td>\n",
       "      <td>quarterly</td>\n",
       "      <td>table</td>\n",
       "      <td>0</td>\n",
       "      <td>4931</td>\n",
       "      <td>A quarterly table is for writing at it.</td>\n",
       "      <td>2</td>\n",
       "    </tr>\n",
       "    <tr>\n",
       "      <th>1610</th>\n",
       "      <td>A dollar equals four quarters.</td>\n",
       "      <td>A millionth dollar equals four quarters.</td>\n",
       "      <td>millionth</td>\n",
       "      <td>dollar</td>\n",
       "      <td>0</td>\n",
       "      <td>9189</td>\n",
       "      <td>A millionth dollar equals four quarters.</td>\n",
       "      <td>2</td>\n",
       "    </tr>\n",
       "    <tr>\n",
       "      <th>1611</th>\n",
       "      <td>A cake is for a birthday.</td>\n",
       "      <td>A fake cake is for a birthday.</td>\n",
       "      <td>fake</td>\n",
       "      <td>cake</td>\n",
       "      <td>0</td>\n",
       "      <td>6191</td>\n",
       "      <td>A fake cake is for a birthday.</td>\n",
       "      <td>2</td>\n",
       "    </tr>\n",
       "  </tbody>\n",
       "</table>\n",
       "<p>1612 rows × 8 columns</p>\n",
       "</div>"
      ],
      "text/plain": [
       "                                  sentence1  \\\n",
       "0     Urine is tested to check for disease.   \n",
       "1                         News is relevant.   \n",
       "2                          Rice is stirred.   \n",
       "3                Plastic is made of carbon.   \n",
       "4          Sometimes hiking causes a smile.   \n",
       "...                                     ...   \n",
       "1607        A heater is used in the winter.   \n",
       "1608       You use a tin to make ornaments.   \n",
       "1609          A table is for writing at it.   \n",
       "1610         A dollar equals four quarters.   \n",
       "1611              A cake is for a birthday.   \n",
       "\n",
       "                                        sentence2    modifier     noun  label  \\\n",
       "0      Dark urine is tested to check for disease.        dark    urine      3   \n",
       "1                         False news is relevant.       false     news      1   \n",
       "2                          Fresh rice is stirred.       fresh     rice      2   \n",
       "3             Colorful plastic is made of carbon.    colorful  plastic      2   \n",
       "4       Sometimes abundant hiking causes a smile.    abundant   hiking      2   \n",
       "...                                           ...         ...      ...    ...   \n",
       "1607          A hot heater is used in the winter.         hot   heater      2   \n",
       "1608  You use a convenient tin to make ornaments.  convenient      tin      2   \n",
       "1609      A quarterly table is for writing at it.   quarterly    table      0   \n",
       "1610     A millionth dollar equals four quarters.   millionth   dollar      0   \n",
       "1611               A fake cake is for a birthday.        fake     cake      0   \n",
       "\n",
       "        idx                                     sentence  predicted_label  \n",
       "0      2082   Dark urine is tested to check for disease.                2  \n",
       "1     12641                      False news is relevant.                2  \n",
       "2     11485                       Fresh rice is stirred.                2  \n",
       "3       886          Colorful plastic is made of carbon.                2  \n",
       "4      5863    Sometimes abundant hiking causes a smile.                2  \n",
       "...     ...                                          ...              ...  \n",
       "1607  12858          A hot heater is used in the winter.                2  \n",
       "1608  14438  You use a convenient tin to make ornaments.                2  \n",
       "1609   4931      A quarterly table is for writing at it.                2  \n",
       "1610   9189     A millionth dollar equals four quarters.                2  \n",
       "1611   6191               A fake cake is for a birthday.                2  \n",
       "\n",
       "[1612 rows x 8 columns]"
      ]
     },
     "metadata": {},
     "output_type": "display_data"
    },
    {
     "data": {
      "text/html": [
       "<div>\n",
       "<style scoped>\n",
       "    .dataframe tbody tr th:only-of-type {\n",
       "        vertical-align: middle;\n",
       "    }\n",
       "\n",
       "    .dataframe tbody tr th {\n",
       "        vertical-align: top;\n",
       "    }\n",
       "\n",
       "    .dataframe thead th {\n",
       "        text-align: right;\n",
       "    }\n",
       "</style>\n",
       "<table border=\"1\" class=\"dataframe\">\n",
       "  <thead>\n",
       "    <tr style=\"text-align: right;\">\n",
       "      <th></th>\n",
       "      <th>text</th>\n",
       "      <th>original_label</th>\n",
       "      <th>label</th>\n",
       "      <th>sentence</th>\n",
       "      <th>predicted_label</th>\n",
       "    </tr>\n",
       "  </thead>\n",
       "  <tbody>\n",
       "    <tr>\n",
       "      <th>0</th>\n",
       "      <td>film runs way</td>\n",
       "      <td>plausible</td>\n",
       "      <td>5</td>\n",
       "      <td>film runs way</td>\n",
       "      <td>0</td>\n",
       "    </tr>\n",
       "    <tr>\n",
       "      <th>1</th>\n",
       "      <td>class welcomes reservation</td>\n",
       "      <td>plausible</td>\n",
       "      <td>5</td>\n",
       "      <td>class welcomes reservation</td>\n",
       "      <td>0</td>\n",
       "    </tr>\n",
       "    <tr>\n",
       "      <th>2</th>\n",
       "      <td>malcontent pervades effect</td>\n",
       "      <td>implausible</td>\n",
       "      <td>5</td>\n",
       "      <td>malcontent pervades effect</td>\n",
       "      <td>1</td>\n",
       "    </tr>\n",
       "    <tr>\n",
       "      <th>3</th>\n",
       "      <td>abuser exploits atmosphere</td>\n",
       "      <td>plausible</td>\n",
       "      <td>4</td>\n",
       "      <td>abuser exploits atmosphere</td>\n",
       "      <td>0</td>\n",
       "    </tr>\n",
       "    <tr>\n",
       "      <th>4</th>\n",
       "      <td>film utilizes footage</td>\n",
       "      <td>plausible</td>\n",
       "      <td>5</td>\n",
       "      <td>film utilizes footage</td>\n",
       "      <td>0</td>\n",
       "    </tr>\n",
       "    <tr>\n",
       "      <th>...</th>\n",
       "      <td>...</td>\n",
       "      <td>...</td>\n",
       "      <td>...</td>\n",
       "      <td>...</td>\n",
       "      <td>...</td>\n",
       "    </tr>\n",
       "    <tr>\n",
       "      <th>211</th>\n",
       "      <td>leader alienates land</td>\n",
       "      <td>plausible</td>\n",
       "      <td>5</td>\n",
       "      <td>leader alienates land</td>\n",
       "      <td>0</td>\n",
       "    </tr>\n",
       "    <tr>\n",
       "      <th>212</th>\n",
       "      <td>brass subverts confluence</td>\n",
       "      <td>implausible</td>\n",
       "      <td>2</td>\n",
       "      <td>brass subverts confluence</td>\n",
       "      <td>1</td>\n",
       "    </tr>\n",
       "    <tr>\n",
       "      <th>213</th>\n",
       "      <td>owner secures trademark</td>\n",
       "      <td>plausible</td>\n",
       "      <td>5</td>\n",
       "      <td>owner secures trademark</td>\n",
       "      <td>1</td>\n",
       "    </tr>\n",
       "    <tr>\n",
       "      <th>214</th>\n",
       "      <td>attendee disengages norm</td>\n",
       "      <td>plausible</td>\n",
       "      <td>4</td>\n",
       "      <td>attendee disengages norm</td>\n",
       "      <td>1</td>\n",
       "    </tr>\n",
       "    <tr>\n",
       "      <th>215</th>\n",
       "      <td>spokesman confirms intention</td>\n",
       "      <td>plausible</td>\n",
       "      <td>5</td>\n",
       "      <td>spokesman confirms intention</td>\n",
       "      <td>0</td>\n",
       "    </tr>\n",
       "  </tbody>\n",
       "</table>\n",
       "<p>216 rows × 5 columns</p>\n",
       "</div>"
      ],
      "text/plain": [
       "                             text original_label  label  \\\n",
       "0                   film runs way      plausible      5   \n",
       "1      class welcomes reservation      plausible      5   \n",
       "2      malcontent pervades effect    implausible      5   \n",
       "3      abuser exploits atmosphere      plausible      4   \n",
       "4           film utilizes footage      plausible      5   \n",
       "..                            ...            ...    ...   \n",
       "211         leader alienates land      plausible      5   \n",
       "212     brass subverts confluence    implausible      2   \n",
       "213       owner secures trademark      plausible      5   \n",
       "214      attendee disengages norm      plausible      4   \n",
       "215  spokesman confirms intention      plausible      5   \n",
       "\n",
       "                         sentence  predicted_label  \n",
       "0                   film runs way                0  \n",
       "1      class welcomes reservation                0  \n",
       "2      malcontent pervades effect                1  \n",
       "3      abuser exploits atmosphere                0  \n",
       "4           film utilizes footage                0  \n",
       "..                            ...              ...  \n",
       "211         leader alienates land                0  \n",
       "212     brass subverts confluence                1  \n",
       "213       owner secures trademark                1  \n",
       "214      attendee disengages norm                1  \n",
       "215  spokesman confirms intention                0  \n",
       "\n",
       "[216 rows x 5 columns]"
      ]
     },
     "metadata": {},
     "output_type": "display_data"
    },
    {
     "data": {
      "text/html": [
       "<div>\n",
       "<style scoped>\n",
       "    .dataframe tbody tr th:only-of-type {\n",
       "        vertical-align: middle;\n",
       "    }\n",
       "\n",
       "    .dataframe tbody tr th {\n",
       "        vertical-align: top;\n",
       "    }\n",
       "\n",
       "    .dataframe thead th {\n",
       "        text-align: right;\n",
       "    }\n",
       "</style>\n",
       "<table border=\"1\" class=\"dataframe\">\n",
       "  <thead>\n",
       "    <tr style=\"text-align: right;\">\n",
       "      <th></th>\n",
       "      <th>text</th>\n",
       "      <th>original_label</th>\n",
       "      <th>label</th>\n",
       "      <th>sentence</th>\n",
       "      <th>predicted_label</th>\n",
       "    </tr>\n",
       "  </thead>\n",
       "  <tbody>\n",
       "    <tr>\n",
       "      <th>0</th>\n",
       "      <td>interpretation construes title</td>\n",
       "      <td>plausible</td>\n",
       "      <td>1</td>\n",
       "      <td>interpretation construes title</td>\n",
       "      <td>1</td>\n",
       "    </tr>\n",
       "    <tr>\n",
       "      <th>1</th>\n",
       "      <td>mask sustains axis</td>\n",
       "      <td>implausible</td>\n",
       "      <td>0</td>\n",
       "      <td>mask sustains axis</td>\n",
       "      <td>1</td>\n",
       "    </tr>\n",
       "    <tr>\n",
       "      <th>2</th>\n",
       "      <td>trader ensures strategy</td>\n",
       "      <td>implausible</td>\n",
       "      <td>1</td>\n",
       "      <td>trader ensures strategy</td>\n",
       "      <td>1</td>\n",
       "    </tr>\n",
       "    <tr>\n",
       "      <th>3</th>\n",
       "      <td>animator comprises trip</td>\n",
       "      <td>implausible</td>\n",
       "      <td>1</td>\n",
       "      <td>animator comprises trip</td>\n",
       "      <td>1</td>\n",
       "    </tr>\n",
       "    <tr>\n",
       "      <th>4</th>\n",
       "      <td>welfare constructs hundred</td>\n",
       "      <td>implausible</td>\n",
       "      <td>0</td>\n",
       "      <td>welfare constructs hundred</td>\n",
       "      <td>0</td>\n",
       "    </tr>\n",
       "    <tr>\n",
       "      <th>...</th>\n",
       "      <td>...</td>\n",
       "      <td>...</td>\n",
       "      <td>...</td>\n",
       "      <td>...</td>\n",
       "      <td>...</td>\n",
       "    </tr>\n",
       "    <tr>\n",
       "      <th>211</th>\n",
       "      <td>malcontent pervades effect</td>\n",
       "      <td>implausible</td>\n",
       "      <td>1</td>\n",
       "      <td>malcontent pervades effect</td>\n",
       "      <td>1</td>\n",
       "    </tr>\n",
       "    <tr>\n",
       "      <th>212</th>\n",
       "      <td>realism overpowers alignment</td>\n",
       "      <td>implausible</td>\n",
       "      <td>1</td>\n",
       "      <td>realism overpowers alignment</td>\n",
       "      <td>0</td>\n",
       "    </tr>\n",
       "    <tr>\n",
       "      <th>213</th>\n",
       "      <td>outcome presides part</td>\n",
       "      <td>implausible</td>\n",
       "      <td>0</td>\n",
       "      <td>outcome presides part</td>\n",
       "      <td>1</td>\n",
       "    </tr>\n",
       "    <tr>\n",
       "      <th>214</th>\n",
       "      <td>ship collides head</td>\n",
       "      <td>plausible</td>\n",
       "      <td>1</td>\n",
       "      <td>ship collides head</td>\n",
       "      <td>1</td>\n",
       "    </tr>\n",
       "    <tr>\n",
       "      <th>215</th>\n",
       "      <td>reviewer recommends book</td>\n",
       "      <td>plausible</td>\n",
       "      <td>1</td>\n",
       "      <td>reviewer recommends book</td>\n",
       "      <td>0</td>\n",
       "    </tr>\n",
       "  </tbody>\n",
       "</table>\n",
       "<p>216 rows × 5 columns</p>\n",
       "</div>"
      ],
      "text/plain": [
       "                               text original_label  label  \\\n",
       "0    interpretation construes title      plausible      1   \n",
       "1                mask sustains axis    implausible      0   \n",
       "2           trader ensures strategy    implausible      1   \n",
       "3           animator comprises trip    implausible      1   \n",
       "4        welfare constructs hundred    implausible      0   \n",
       "..                              ...            ...    ...   \n",
       "211      malcontent pervades effect    implausible      1   \n",
       "212    realism overpowers alignment    implausible      1   \n",
       "213           outcome presides part    implausible      0   \n",
       "214              ship collides head      plausible      1   \n",
       "215        reviewer recommends book      plausible      1   \n",
       "\n",
       "                           sentence  predicted_label  \n",
       "0    interpretation construes title                1  \n",
       "1                mask sustains axis                1  \n",
       "2           trader ensures strategy                1  \n",
       "3           animator comprises trip                1  \n",
       "4        welfare constructs hundred                0  \n",
       "..                              ...              ...  \n",
       "211      malcontent pervades effect                1  \n",
       "212    realism overpowers alignment                0  \n",
       "213           outcome presides part                1  \n",
       "214              ship collides head                1  \n",
       "215        reviewer recommends book                0  \n",
       "\n",
       "[216 rows x 5 columns]"
      ]
     },
     "metadata": {},
     "output_type": "display_data"
    }
   ],
   "source": [
    "perc_path_adept = \"datasets/adept/train-dev-test-split\"\n",
    "with open(perc_path_adept+\"/test.json\", \"r\", encoding=\"utf-8\") as file:\n",
    "    perc_adept_test = json.load(file) \n",
    "perc_adept_test_df = pd.DataFrame.from_dict(perc_adept_test)\n",
    "perc_path_adept_predictions = \"./adept_perceptron_predictions.csv\"\n",
    "perc_adept_predictions_df = pd.read_csv(perc_path_adept_predictions, sep=';')\n",
    "perc_adept_df = perc_adept_test_df.merge(perc_adept_predictions_df, left_on='sentence2', right_on='sentence')\n",
    "display(perc_adept_df)\n",
    "\n",
    "perc_path_pap_multi = \"datasets/pap/train-dev-test-split/multiclass\"\n",
    "perc_pap_multi_test_df = pd.read_csv(perc_path_pap_multi + \"/test.csv\")\n",
    "perc_path_pap_multi_predictions = \"./pap_multi_perceptron_predictions.csv\"\n",
    "perc_pap_multi_predictions_df = pd.read_csv(perc_path_pap_multi_predictions)\n",
    "perc_pap_multi_df = perc_pap_multi_test_df.merge(perc_pap_multi_predictions_df, left_on='text', right_on='sentence')\n",
    "display(perc_pap_multi_df)\n",
    "\n",
    "perc_path_pap_bin = \"datasets/pap/train-dev-test-split/binary\"\n",
    "perc_pap_bin_test_df = pd.read_csv(perc_path_pap_bin + \"/test.csv\")\n",
    "perc_path_pap_bin_predictions = \"./pap_bin_perceptron_predictions.csv\"\n",
    "perc_pap_bin_predictions_df = pd.read_csv(perc_path_pap_bin_predictions)\n",
    "perc_pap_bin_df = perc_pap_bin_test_df.merge(perc_pap_bin_predictions_df, left_on='text', right_on='sentence')\n",
    "display(perc_pap_bin_df)"
   ]
  },
  {
   "cell_type": "markdown",
   "metadata": {},
   "source": [
    "#### Confusion Matrix - Dataset: Adept"
   ]
  },
  {
   "cell_type": "markdown",
   "metadata": {},
   "source": [
    "##### RoBERTa"
   ]
  },
  {
   "cell_type": "code",
   "execution_count": 52,
   "metadata": {},
   "outputs": [
    {
     "data": {
      "image/png": "[encoded data removed]",
      "text/plain": [
       "<Figure size 640x480 with 2 Axes>"
      ]
     },
     "metadata": {},
     "output_type": "display_data"
    }
   ],
   "source": [
    "ConfusionMatrixDisplay.from_predictions(nn_adept_df['label'], nn_adept_df['predicted_label'])\n",
    "plt.show()"
   ]
  },
  {
   "cell_type": "markdown",
   "metadata": {},
   "source": [
    "##### Perceptron"
   ]
  },
  {
   "cell_type": "code",
   "execution_count": 53,
   "metadata": {},
   "outputs": [
    {
     "data": {
      "image/png": "[encoded data removed]",
      "text/plain": [
       "<Figure size 640x480 with 2 Axes>"
      ]
     },
     "metadata": {},
     "output_type": "display_data"
    }
   ],
   "source": [
    "ConfusionMatrixDisplay.from_predictions(perc_adept_df['label'], perc_adept_df['predicted_label'])\n",
    "plt.show()"
   ]
  },
  {
   "cell_type": "markdown",
   "metadata": {},
   "source": [
    "#### AUC and ROC - Dataset: Adept"
   ]
  },
  {
   "cell_type": "markdown",
   "metadata": {},
   "source": [
    "##### RoBERTa"
   ]
  },
  {
   "cell_type": "code",
   "execution_count": 54,
   "metadata": {},
   "outputs": [
    {
     "data": {
      "text/plain": [
       "0.6224617289620515"
      ]
     },
     "execution_count": 54,
     "metadata": {},
     "output_type": "execute_result"
    }
   ],
   "source": [
    "# initialize available labels\n",
    "nn_adept_labels = [0, 1, 2, 3, 4]\n",
    "# list of true labels\n",
    "nn_adept_test  = nn_adept_df['label'].to_list()\n",
    "nn_adept_test = label_binarize(nn_adept_test, classes=nn_adept_labels)\n",
    "# list of predicted labels\n",
    "nn_adept_predictions = nn_adept_df['predicted_label'].to_list()\n",
    "nn_adept_predictions = label_binarize(nn_adept_predictions, classes=nn_adept_labels)\n",
    "\n",
    "roc_auc_score(nn_adept_test, nn_adept_predictions,average='macro',multi_class='ovo')"
   ]
  },
  {
   "cell_type": "markdown",
   "metadata": {},
   "source": [
    "##### Perceptron"
   ]
  },
  {
   "cell_type": "code",
   "execution_count": 55,
   "metadata": {},
   "outputs": [
    {
     "data": {
      "text/plain": [
       "0.4993250825677354"
      ]
     },
     "execution_count": 55,
     "metadata": {},
     "output_type": "execute_result"
    }
   ],
   "source": [
    "# initialize available labels\n",
    "perc_adept_labels = [0, 1, 2, 3, 4]\n",
    "# list of true labels\n",
    "perc_adept_test  = perc_adept_df['label'].to_list()\n",
    "perc_adept_test = label_binarize(perc_adept_test, classes=perc_adept_labels)\n",
    "# list of predicted labels\n",
    "perc_adept_predictions = perc_adept_df['predicted_label'].to_list()\n",
    "perc_adept_predictions = label_binarize(perc_adept_predictions, classes=perc_adept_labels)\n",
    "\n",
    "roc_auc_score(perc_adept_test, perc_adept_predictions,average='macro',multi_class='ovo')"
   ]
  },
  {
   "cell_type": "markdown",
   "metadata": {},
   "source": [
    "#### Confusion matrix - Dataset: pap (multi_class)"
   ]
  },
  {
   "cell_type": "markdown",
   "metadata": {},
   "source": [
    "##### RoBERTa"
   ]
  },
  {
   "cell_type": "code",
   "execution_count": 56,
   "metadata": {},
   "outputs": [
    {
     "data": {
      "image/png": "[encoded data removed]",
      "text/plain": [
       "<Figure size 640x480 with 2 Axes>"
      ]
     },
     "metadata": {},
     "output_type": "display_data"
    }
   ],
   "source": [
    "ConfusionMatrixDisplay.from_predictions(nn_pap_df['label'], nn_pap_df['predicted_label'])\n",
    "plt.show()"
   ]
  },
  {
   "cell_type": "markdown",
   "metadata": {},
   "source": [
    "##### Perceptron"
   ]
  },
  {
   "cell_type": "code",
   "execution_count": 57,
   "metadata": {},
   "outputs": [
    {
     "data": {
      "image/png": "[encoded data removed]",
      "text/plain": [
       "<Figure size 640x480 with 2 Axes>"
      ]
     },
     "metadata": {},
     "output_type": "display_data"
    }
   ],
   "source": [
    "ConfusionMatrixDisplay.from_predictions(perc_pap_multi_df['label'], perc_pap_multi_df['predicted_label'])\n",
    "plt.show()"
   ]
  },
  {
   "cell_type": "markdown",
   "metadata": {},
   "source": [
    "#### AUC and ROC - Dataset: pap (multi_class)"
   ]
  },
  {
   "cell_type": "markdown",
   "metadata": {},
   "source": [
    "##### RoBERTa"
   ]
  },
  {
   "cell_type": "code",
   "execution_count": 58,
   "metadata": {},
   "outputs": [
    {
     "data": {
      "text/plain": [
       "0.5836284713548205"
      ]
     },
     "execution_count": 58,
     "metadata": {},
     "output_type": "execute_result"
    }
   ],
   "source": [
    "# initialize available labels\n",
    "nn_pap_labels = [1, 2, 4, 5]\n",
    "# list of true labels\n",
    "nn_pap_test  = nn_pap_df['label'].to_list()\n",
    "nn_pap_test = label_binarize(nn_pap_test, classes=nn_pap_labels)\n",
    "# list of predicted labels\n",
    "nn_pap_predictions = nn_pap_df['predicted_label'].to_list()\n",
    "nn_pap_predictions = label_binarize(nn_pap_predictions, classes=nn_pap_labels)\n",
    "\n",
    "roc_auc_score(nn_pap_test, nn_pap_predictions,average='macro',multi_class='ovo')"
   ]
  },
  {
   "cell_type": "markdown",
   "metadata": {},
   "source": [
    "##### Perceptron"
   ]
  },
  {
   "cell_type": "code",
   "execution_count": 59,
   "metadata": {},
   "outputs": [
    {
     "data": {
      "text/plain": [
       "0.5074593982122624"
      ]
     },
     "execution_count": 59,
     "metadata": {},
     "output_type": "execute_result"
    }
   ],
   "source": [
    "# initialize available labels\n",
    "perc_pap_multi_labels = [1, 2, 4, 5]\n",
    "# list of true labels\n",
    "perc_pap_multi_test  = perc_pap_multi_df['label'].to_list()\n",
    "perc_pap_multi_test = label_binarize(perc_pap_multi_test, classes=perc_pap_multi_labels)\n",
    "# list of predicted labels\n",
    "perc_pap_multi_predictions = perc_pap_multi_df['predicted_label'].to_list()\n",
    "perc_pap_multi_predictions = label_binarize(perc_pap_multi_predictions, classes=perc_pap_multi_labels)\n",
    "\n",
    "roc_auc_score(perc_pap_multi_test, perc_pap_multi_predictions,average='macro',multi_class='ovo')"
   ]
  },
  {
   "cell_type": "markdown",
   "metadata": {},
   "source": [
    "#### Confusion matrix - Dataset: pap (binary)\n",
    "(perceptron only)"
   ]
  },
  {
   "cell_type": "code",
   "execution_count": 60,
   "metadata": {},
   "outputs": [
    {
     "data": {
      "image/png": "[encoded data removed]",
      "text/plain": [
       "<Figure size 640x480 with 2 Axes>"
      ]
     },
     "metadata": {},
     "output_type": "display_data"
    }
   ],
   "source": [
    "ConfusionMatrixDisplay.from_predictions(perc_pap_bin_df['label'], perc_pap_bin_df['predicted_label'])\n",
    "plt.show()"
   ]
  },
  {
   "cell_type": "markdown",
   "metadata": {},
   "source": [
    "#### AUC and ROC - Dataset: pap (binary)\n",
    "(perceptron only)"
   ]
  },
  {
   "cell_type": "code",
   "execution_count": 61,
   "metadata": {},
   "outputs": [
    {
     "data": {
      "text/plain": [
       "0.4937159614578969"
      ]
     },
     "execution_count": 61,
     "metadata": {},
     "output_type": "execute_result"
    }
   ],
   "source": [
    "# initialize available labels\n",
    "perc_pap_bin_labels = [0, 1]\n",
    "# list of true labels\n",
    "perc_pap_bin_test  = perc_pap_bin_df['label'].to_list()\n",
    "perc_pap_bin_test = label_binarize(perc_pap_bin_test, classes=perc_pap_bin_labels)\n",
    "# list of predicted labels\n",
    "perc_pap_bin_predictions = perc_pap_bin_df['predicted_label'].to_list()\n",
    "perc_pap_bin_predictions = label_binarize(perc_pap_bin_predictions, classes=perc_pap_bin_labels)\n",
    "\n",
    "roc_auc_score(perc_pap_bin_test, perc_pap_bin_predictions,average='macro')"
   ]
  }
 ],
 "metadata": {
  "kernelspec": {
   "display_name": "venv_test",
   "language": "python",
   "name": "python3"
  },
  "language_info": {
   "codemirror_mode": {
    "name": "ipython",
    "version": 3
   },
   "file_extension": ".py",
   "mimetype": "text/x-python",
   "name": "python",
   "nbconvert_exporter": "python",
   "pygments_lexer": "ipython3",
   "version": "3.10.8"
  }
 },
 "nbformat": 4,
 "nbformat_minor": 4
}
